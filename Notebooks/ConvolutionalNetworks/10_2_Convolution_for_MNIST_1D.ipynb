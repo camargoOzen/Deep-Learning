{
  "cells": [
    {
      "cell_type": "markdown",
      "metadata": {
        "colab_type": "text",
        "id": "view-in-github"
      },
      "source": [
        "<a href=\"https://colab.research.google.com/github/udlbook/udlbook/blob/main/Notebooks/Chap10/10_2_Convolution_for_MNIST_1D.ipynb\" target=\"_parent\"><img src=\"https://colab.research.google.com/assets/colab-badge.svg\" alt=\"Open In Colab\"/></a>"
      ]
    },
    {
      "cell_type": "markdown",
      "metadata": {
        "id": "t9vk9Elugvmi"
      },
      "source": [
        "# **Notebook 10.2: Convolution for MNIST-1D**\n",
        "\n",
        "This notebook investigates a 1D convolutional network for MNIST-1D as in figure 10.7 and 10.8a.\n",
        "\n",
        "Work through the cells below, running each cell in turn. In various places you will see the words \"TODO\". Follow the instructions at these places and make predictions about what is going to happen or write code to complete the functions.\n",
        "\n",
        "Contact me at udlbookmail@gmail.com if you find any mistakes or have any suggestions.\n",
        "\n"
      ]
    },
    {
      "cell_type": "code",
      "execution_count": 5,
      "metadata": {
        "id": "D5yLObtZCi9J"
      },
      "outputs": [],
      "source": [
        "# Run this if you're in a Colab to install MNIST 1D repository\n",
        "#!pip install git+https://github.com/greydanus/mnist1d"
      ]
    },
    {
      "cell_type": "code",
      "execution_count": 6,
      "metadata": {
        "id": "YrXWAH7sUWvU"
      },
      "outputs": [],
      "source": [
        "import numpy as np\n",
        "import os\n",
        "import torch, torch.nn as nn\n",
        "from torch.utils.data import TensorDataset, DataLoader\n",
        "from torch.optim.lr_scheduler import StepLR\n",
        "import matplotlib.pyplot as plt\n",
        "import mnist1d\n",
        "import random"
      ]
    },
    {
      "cell_type": "code",
      "execution_count": 7,
      "metadata": {
        "id": "twI72ZCrCt5z"
      },
      "outputs": [
        {
          "name": "stdout",
          "output_type": "stream",
          "text": [
            "Successfully loaded data from ./mnist1d_data.pkl\n",
            "Examples in training set: 4000\n",
            "Examples in test set: 1000\n",
            "Length of each example: 40\n"
          ]
        }
      ],
      "source": [
        "args = mnist1d.data.get_dataset_args()\n",
        "data = mnist1d.data.get_dataset(args, path='./mnist1d_data.pkl', download=False, regenerate=False)\n",
        "\n",
        "# The training and test input and outputs are in\n",
        "# data['x'], data['y'], data['x_test'], and data['y_test']\n",
        "print(\"Examples in training set: {}\".format(len(data['y'])))\n",
        "print(\"Examples in test set: {}\".format(len(data['y_test'])))\n",
        "print(\"Length of each example: {}\".format(data['x'].shape[-1]))"
      ]
    },
    {
      "cell_type": "code",
      "execution_count": 8,
      "metadata": {
        "id": "8bKADvLHbiV5"
      },
      "outputs": [
        {
          "name": "stdout",
          "output_type": "stream",
          "text": [
            "Train data: 4000 examples (columns), each of which has 40 dimensions (rows)\n",
            "Validation data: 1000 examples (columns), each of which has 40 dimensions (rows)\n"
          ]
        }
      ],
      "source": [
        "# Load in the data\n",
        "train_data_x = data['x'].transpose()\n",
        "train_data_y = data['y']\n",
        "val_data_x = data['x_test'].transpose()\n",
        "val_data_y = data['y_test']\n",
        "# Print out sizes\n",
        "print(\"Train data: %d examples (columns), each of which has %d dimensions (rows)\"%((train_data_x.shape[1],train_data_x.shape[0])))\n",
        "print(\"Validation data: %d examples (columns), each of which has %d dimensions (rows)\"%((val_data_x.shape[1],val_data_x.shape[0])))"
      ]
    },
    {
      "cell_type": "markdown",
      "metadata": {
        "id": "_sFvRDGrl4qe"
      },
      "source": [
        "Define the network"
      ]
    },
    {
      "cell_type": "code",
      "execution_count": 9,
      "metadata": {
        "id": "FslroPJJffrh"
      },
      "outputs": [],
      "source": [
        "# There are 40 input dimensions and 10 output dimensions for this data\n",
        "# The inputs correspond to the 40 offsets in the MNIST1D template.\n",
        "D_i = 40\n",
        "# The outputs correspond to the 10 digits\n",
        "D_o = 10\n",
        "\n",
        "\n",
        "# TODO Create a model with the following layers\n",
        "# 1. Convolutional layer, (input=length 40 and 1 channel, kernel size 3, stride 2, padding=\"valid\", 15 output channels )\n",
        "# 2. ReLU\n",
        "# 3. Convolutional layer, (input=length 19 and 15 channels, kernel size 3, stride 2, padding=\"valid\", 15 output channels )\n",
        "# 4. ReLU\n",
        "# 5. Convolutional layer, (input=length 9 and 15 channels, kernel size 3, stride 2, padding=\"valid\", 15 output channels)\n",
        "# 6. ReLU\n",
        "# 7. Flatten (converts 4x15) to length 60\n",
        "# 8. Linear layer (input size = 60, output size = 10)\n",
        "# References:\n",
        "# https://pytorch.org/docs/1.13/generated/torch.nn.Conv1d.html?highlight=conv1d#torch.nn.Conv1d\n",
        "# https://pytorch.org/docs/stable/generated/torch.nn.Flatten.html\n",
        "# https://pytorch.org/docs/1.13/generated/torch.nn.Linear.html?highlight=linear#torch.nn.Linear\n",
        "\n",
        "# NOTE THAT THE CONVOLUTIONAL LAYERS NEED TO TAKE THE NUMBER OF INPUT CHANNELS AS A PARAMETER\n",
        "# AND NOT THE INPUT SIZE.\n",
        "\n",
        "# Replace the following function:\n",
        "model = nn.Sequential(\n",
        "    nn.Conv1d(in_channels=1, out_channels=15, kernel_size=3, stride=2, padding=0), \n",
        "    nn.ReLU(),\n",
        "    nn.Conv1d(in_channels=15, out_channels=15, kernel_size=3, stride=2, padding=0), \n",
        "    nn.ReLU(),\n",
        "    nn.Conv1d(in_channels=15, out_channels=15, kernel_size=3, stride=2, padding=0),  \n",
        "    nn.ReLU(),\n",
        "    nn.Flatten(),\n",
        "    nn.Linear(in_features=60, out_features=10))"
      ]
    },
    {
      "cell_type": "code",
      "execution_count": 10,
      "metadata": {
        "id": "YgLaex1pfhqz"
      },
      "outputs": [],
      "source": [
        "# He initialization of weights\n",
        "def weights_init(layer_in):\n",
        "  if isinstance(layer_in, nn.Linear):\n",
        "    nn.init.kaiming_uniform_(layer_in.weight)\n",
        "    layer_in.bias.data.fill_(0.0)"
      ]
    },
    {
      "cell_type": "code",
      "execution_count": 11,
      "metadata": {
        "id": "NYw8I_3mmX5c"
      },
      "outputs": [
        {
          "name": "stdout",
          "output_type": "stream",
          "text": [
            "Epoch     0, train loss 1.995574, train error 72.10,  val loss 1.997452, percent error 69.00\n",
            "Epoch     1, train loss 1.506470, train error 62.08,  val loss 1.499666, percent error 63.20\n",
            "Epoch     2, train loss 1.362000, train error 54.35,  val loss 1.358644, percent error 56.70\n",
            "Epoch     3, train loss 1.255045, train error 50.88,  val loss 1.265189, percent error 53.20\n",
            "Epoch     4, train loss 1.220740, train error 50.85,  val loss 1.248427, percent error 52.00\n",
            "Epoch     5, train loss 1.069144, train error 41.88,  val loss 1.074550, percent error 43.50\n",
            "Epoch     6, train loss 1.078000, train error 43.55,  val loss 1.115907, percent error 45.70\n",
            "Epoch     7, train loss 0.878263, train error 35.35,  val loss 0.930471, percent error 38.90\n",
            "Epoch     8, train loss 0.827270, train error 33.30,  val loss 0.883399, percent error 39.00\n",
            "Epoch     9, train loss 0.746611, train error 31.40,  val loss 0.819019, percent error 34.00\n",
            "Epoch    10, train loss 0.700161, train error 27.50,  val loss 0.777016, percent error 29.60\n",
            "Epoch    11, train loss 0.693630, train error 25.68,  val loss 0.765042, percent error 28.90\n",
            "Epoch    12, train loss 0.638230, train error 25.03,  val loss 0.767991, percent error 28.70\n",
            "Epoch    13, train loss 0.475045, train error 17.03,  val loss 0.585861, percent error 22.70\n",
            "Epoch    14, train loss 0.461487, train error 16.82,  val loss 0.592558, percent error 22.30\n",
            "Epoch    15, train loss 0.393551, train error 14.70,  val loss 0.523840, percent error 21.30\n",
            "Epoch    16, train loss 0.375995, train error 13.95,  val loss 0.490472, percent error 18.60\n",
            "Epoch    17, train loss 0.336889, train error 12.32,  val loss 0.482184, percent error 17.90\n",
            "Epoch    18, train loss 0.308815, train error 10.57,  val loss 0.466609, percent error 15.50\n",
            "Epoch    19, train loss 0.304449, train error 11.82,  val loss 0.468225, percent error 17.40\n",
            "Epoch    20, train loss 0.216826, train error 7.25,  val loss 0.401811, percent error 13.80\n",
            "Epoch    21, train loss 0.191689, train error 6.18,  val loss 0.397581, percent error 13.70\n",
            "Epoch    22, train loss 0.211898, train error 7.40,  val loss 0.399406, percent error 12.50\n",
            "Epoch    23, train loss 0.190859, train error 6.20,  val loss 0.376359, percent error 13.30\n",
            "Epoch    24, train loss 0.163803, train error 5.45,  val loss 0.347223, percent error 10.80\n",
            "Epoch    25, train loss 0.193618, train error 6.65,  val loss 0.403961, percent error 12.90\n",
            "Epoch    26, train loss 0.177237, train error 5.85,  val loss 0.352706, percent error 10.90\n",
            "Epoch    27, train loss 0.152072, train error 4.85,  val loss 0.354365, percent error 11.60\n",
            "Epoch    28, train loss 0.141230, train error 4.82,  val loss 0.362987, percent error 12.90\n",
            "Epoch    29, train loss 0.145757, train error 5.30,  val loss 0.374501, percent error 12.50\n",
            "Epoch    30, train loss 0.137998, train error 4.78,  val loss 0.369934, percent error 12.40\n",
            "Epoch    31, train loss 0.120892, train error 3.43,  val loss 0.347062, percent error 11.20\n",
            "Epoch    32, train loss 0.119180, train error 3.57,  val loss 0.344374, percent error 10.90\n",
            "Epoch    33, train loss 0.134967, train error 4.30,  val loss 0.360999, percent error 11.80\n",
            "Epoch    34, train loss 0.134837, train error 4.60,  val loss 0.376659, percent error 11.70\n",
            "Epoch    35, train loss 0.124887, train error 4.03,  val loss 0.350654, percent error 10.20\n",
            "Epoch    36, train loss 0.103413, train error 3.18,  val loss 0.363455, percent error 11.40\n",
            "Epoch    37, train loss 0.104890, train error 3.53,  val loss 0.346714, percent error 10.00\n",
            "Epoch    38, train loss 0.111345, train error 3.82,  val loss 0.376389, percent error 11.80\n",
            "Epoch    39, train loss 0.097273, train error 2.88,  val loss 0.340375, percent error 10.80\n",
            "Epoch    40, train loss 0.085582, train error 2.50,  val loss 0.328747, percent error 10.20\n",
            "Epoch    41, train loss 0.084245, train error 2.25,  val loss 0.349831, percent error 10.50\n",
            "Epoch    42, train loss 0.074534, train error 1.88,  val loss 0.332944, percent error 10.40\n",
            "Epoch    43, train loss 0.075247, train error 2.07,  val loss 0.345568, percent error 10.10\n",
            "Epoch    44, train loss 0.075736, train error 2.12,  val loss 0.346602, percent error 10.50\n",
            "Epoch    45, train loss 0.070480, train error 1.75,  val loss 0.344584, percent error 10.40\n",
            "Epoch    46, train loss 0.069624, train error 1.85,  val loss 0.338820, percent error 10.10\n",
            "Epoch    47, train loss 0.070480, train error 1.85,  val loss 0.343785, percent error 9.80\n",
            "Epoch    48, train loss 0.069970, train error 2.05,  val loss 0.360832, percent error 10.40\n",
            "Epoch    49, train loss 0.062195, train error 1.62,  val loss 0.334247, percent error 9.90\n",
            "Epoch    50, train loss 0.061380, train error 1.35,  val loss 0.351287, percent error 10.00\n",
            "Epoch    51, train loss 0.061531, train error 1.32,  val loss 0.361989, percent error 10.70\n",
            "Epoch    52, train loss 0.059259, train error 1.32,  val loss 0.358200, percent error 10.20\n",
            "Epoch    53, train loss 0.059818, train error 1.57,  val loss 0.355812, percent error 10.30\n",
            "Epoch    54, train loss 0.059679, train error 1.50,  val loss 0.371861, percent error 10.40\n",
            "Epoch    55, train loss 0.056761, train error 1.40,  val loss 0.365729, percent error 10.50\n",
            "Epoch    56, train loss 0.058982, train error 1.50,  val loss 0.372289, percent error 10.80\n",
            "Epoch    57, train loss 0.057243, train error 1.43,  val loss 0.366098, percent error 10.80\n",
            "Epoch    58, train loss 0.052507, train error 1.10,  val loss 0.362475, percent error 9.40\n",
            "Epoch    59, train loss 0.052331, train error 1.35,  val loss 0.366348, percent error 10.30\n",
            "Epoch    60, train loss 0.049125, train error 1.15,  val loss 0.366509, percent error 10.00\n",
            "Epoch    61, train loss 0.048447, train error 1.15,  val loss 0.369642, percent error 9.50\n",
            "Epoch    62, train loss 0.047353, train error 1.10,  val loss 0.367213, percent error 9.70\n",
            "Epoch    63, train loss 0.046594, train error 0.93,  val loss 0.374298, percent error 10.00\n",
            "Epoch    64, train loss 0.046093, train error 1.03,  val loss 0.371613, percent error 9.80\n",
            "Epoch    65, train loss 0.046309, train error 0.97,  val loss 0.369742, percent error 10.10\n",
            "Epoch    66, train loss 0.045126, train error 0.82,  val loss 0.371484, percent error 10.00\n",
            "Epoch    67, train loss 0.047916, train error 1.03,  val loss 0.375623, percent error 10.40\n",
            "Epoch    68, train loss 0.044491, train error 0.97,  val loss 0.373375, percent error 9.80\n",
            "Epoch    69, train loss 0.046060, train error 1.03,  val loss 0.386095, percent error 9.90\n",
            "Epoch    70, train loss 0.044813, train error 0.88,  val loss 0.375234, percent error 10.20\n",
            "Epoch    71, train loss 0.043244, train error 0.80,  val loss 0.382922, percent error 10.00\n",
            "Epoch    72, train loss 0.043027, train error 0.95,  val loss 0.383445, percent error 10.10\n",
            "Epoch    73, train loss 0.042450, train error 0.85,  val loss 0.383296, percent error 10.00\n",
            "Epoch    74, train loss 0.042249, train error 0.78,  val loss 0.385560, percent error 10.40\n",
            "Epoch    75, train loss 0.041243, train error 0.88,  val loss 0.379001, percent error 10.60\n",
            "Epoch    76, train loss 0.042669, train error 0.85,  val loss 0.391894, percent error 10.30\n",
            "Epoch    77, train loss 0.040957, train error 0.78,  val loss 0.387017, percent error 10.20\n",
            "Epoch    78, train loss 0.040888, train error 0.72,  val loss 0.394577, percent error 10.30\n",
            "Epoch    79, train loss 0.039475, train error 0.75,  val loss 0.391067, percent error 10.50\n",
            "Epoch    80, train loss 0.038829, train error 0.75,  val loss 0.389336, percent error 10.40\n",
            "Epoch    81, train loss 0.038829, train error 0.78,  val loss 0.390397, percent error 10.50\n",
            "Epoch    82, train loss 0.038370, train error 0.68,  val loss 0.391716, percent error 10.50\n",
            "Epoch    83, train loss 0.038293, train error 0.75,  val loss 0.389043, percent error 10.40\n",
            "Epoch    84, train loss 0.039149, train error 0.65,  val loss 0.394209, percent error 10.50\n",
            "Epoch    85, train loss 0.038065, train error 0.70,  val loss 0.393549, percent error 10.50\n",
            "Epoch    86, train loss 0.037645, train error 0.72,  val loss 0.392357, percent error 10.10\n",
            "Epoch    87, train loss 0.037668, train error 0.68,  val loss 0.398640, percent error 10.30\n",
            "Epoch    88, train loss 0.037627, train error 0.65,  val loss 0.396533, percent error 10.70\n",
            "Epoch    89, train loss 0.037268, train error 0.62,  val loss 0.394327, percent error 10.60\n",
            "Epoch    90, train loss 0.036884, train error 0.68,  val loss 0.393357, percent error 10.50\n",
            "Epoch    91, train loss 0.036934, train error 0.65,  val loss 0.398266, percent error 10.60\n",
            "Epoch    92, train loss 0.036417, train error 0.65,  val loss 0.397560, percent error 10.70\n",
            "Epoch    93, train loss 0.036604, train error 0.60,  val loss 0.402558, percent error 10.40\n",
            "Epoch    94, train loss 0.036273, train error 0.70,  val loss 0.398089, percent error 10.60\n",
            "Epoch    95, train loss 0.036243, train error 0.70,  val loss 0.398967, percent error 10.40\n",
            "Epoch    96, train loss 0.035841, train error 0.62,  val loss 0.401813, percent error 10.60\n",
            "Epoch    97, train loss 0.035639, train error 0.65,  val loss 0.400310, percent error 10.20\n",
            "Epoch    98, train loss 0.035594, train error 0.60,  val loss 0.403145, percent error 10.60\n",
            "Epoch    99, train loss 0.035905, train error 0.57,  val loss 0.404680, percent error 10.60\n"
          ]
        },
        {
          "data": {
            "image/png": "[encoded data removed]",
            "text/plain": [
              "<Figure size 640x480 with 1 Axes>"
            ]
          },
          "metadata": {},
          "output_type": "display_data"
        }
      ],
      "source": [
        "# choose cross entropy loss function (equation 5.24 in the loss notes)\n",
        "loss_function = nn.CrossEntropyLoss()\n",
        "# construct SGD optimizer and initialize learning rate and momentum\n",
        "optimizer = torch.optim.SGD(model.parameters(), lr = 0.05, momentum=0.9)\n",
        "# object that decreases learning rate by half every 20 epochs\n",
        "scheduler = StepLR(optimizer, step_size=20, gamma=0.5)\n",
        "# create 100 dummy data points and store in data loader class\n",
        "x_train = torch.tensor(train_data_x.transpose().astype('float32'))\n",
        "y_train = torch.tensor(train_data_y.astype('long')).long()\n",
        "x_val= torch.tensor(val_data_x.transpose().astype('float32'))\n",
        "y_val = torch.tensor(val_data_y.astype('long')).long()\n",
        "\n",
        "# load the data into a class that creates the batches\n",
        "data_loader = DataLoader(TensorDataset(x_train,y_train), batch_size=100, shuffle=True, worker_init_fn=np.random.seed(1))\n",
        "\n",
        "# Initialize model weights\n",
        "model.apply(weights_init)\n",
        "\n",
        "# loop over the dataset n_epoch times\n",
        "n_epoch = 100\n",
        "# store the loss and the % correct at each epoch\n",
        "losses_train = np.zeros((n_epoch))\n",
        "errors_train = np.zeros((n_epoch))\n",
        "losses_val = np.zeros((n_epoch))\n",
        "errors_val = np.zeros((n_epoch))\n",
        "\n",
        "for epoch in range(n_epoch):\n",
        "  # loop over batches\n",
        "  for i, data in enumerate(data_loader):\n",
        "    # retrieve inputs and labels for this batch\n",
        "    x_batch, y_batch = data\n",
        "    # zero the parameter gradients\n",
        "    optimizer.zero_grad()\n",
        "    # forward pass -- calculate model output\n",
        "    pred = model(x_batch[:,None,:])\n",
        "    # compute the loss\n",
        "    loss = loss_function(pred, y_batch)\n",
        "    # backward pass\n",
        "    loss.backward()\n",
        "    # SGD update\n",
        "    optimizer.step()\n",
        "\n",
        "  # Run whole dataset to get statistics -- normally wouldn't do this\n",
        "  pred_train = model(x_train[:,None,:])\n",
        "  pred_val = model(x_val[:,None,:])\n",
        "  _, predicted_train_class = torch.max(pred_train.data, 1)\n",
        "  _, predicted_val_class = torch.max(pred_val.data, 1)\n",
        "  errors_train[epoch] = 100 - 100 * (predicted_train_class == y_train).float().sum() / len(y_train)\n",
        "  errors_val[epoch]= 100 - 100 * (predicted_val_class == y_val).float().sum() / len(y_val)\n",
        "  losses_train[epoch] = loss_function(pred_train, y_train).item()\n",
        "  losses_val[epoch]= loss_function(pred_val, y_val).item()\n",
        "  print(f'Epoch {epoch:5d}, train loss {losses_train[epoch]:.6f}, train error {errors_train[epoch]:3.2f},  val loss {losses_val[epoch]:.6f}, percent error {errors_val[epoch]:3.2f}')\n",
        "\n",
        "  # tell scheduler to consider updating learning rate\n",
        "  scheduler.step()\n",
        "\n",
        "# Plot the results\n",
        "fig, ax = plt.subplots()\n",
        "ax.plot(errors_train,'r-',label='train')\n",
        "ax.plot(errors_val,'b-',label='validation')\n",
        "ax.set_ylim(0,100); ax.set_xlim(0,n_epoch)\n",
        "ax.set_xlabel('Epoch'); ax.set_ylabel('Error')\n",
        "ax.set_title('Part I: Validation Result %3.2f'%(errors_val[-1]))\n",
        "ax.legend()\n",
        "plt.show()"
      ]
    }
  ],
  "metadata": {
    "colab": {
      "authorship_tag": "ABX9TyNb46PJB/CC1pcHGfjpUUZg",
      "include_colab_link": true,
      "provenance": []
    },
    "kernelspec": {
      "display_name": "Python 3",
      "name": "python3"
    },
    "language_info": {
      "codemirror_mode": {
        "name": "ipython",
        "version": 3
      },
      "file_extension": ".py",
      "mimetype": "text/x-python",
      "name": "python",
      "nbconvert_exporter": "python",
      "pygments_lexer": "ipython3",
      "version": "3.13.3"
    }
  },
  "nbformat": 4,
  "nbformat_minor": 0
}
